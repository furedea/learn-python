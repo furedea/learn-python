{
 "cells": [
  {
   "cell_type": "markdown",
   "metadata": {},
   "source": [
    "### 前準備\n"
   ]
  },
  {
   "cell_type": "code",
   "execution_count": null,
   "metadata": {},
   "outputs": [],
   "source": [
    "from typing import Self, Protocol\n",
    "\n",
    "import ibis\n",
    "import jax.numpy as jnp\n",
    "import jaxtyping as jnpt\n",
    "import pandas as pl\n",
    "import plotly.express as px\n",
    "import plotly.graph_objects as go"
   ]
  },
  {
   "cell_type": "code",
   "execution_count": null,
   "metadata": {},
   "outputs": [],
   "source": [
    "ibis.set_backend(\"polars\")\n",
    "ibis.options.interactive = True"
   ]
  },
  {
   "cell_type": "markdown",
   "metadata": {},
   "source": [
    "### テスト関数\n"
   ]
  },
  {
   "cell_type": "code",
   "execution_count": null,
   "metadata": {},
   "outputs": [],
   "source": [
    "class Classifier[N: int, P: int](Protocol):\n",
    "    learning_rate: float\n",
    "    n_epochs: int\n",
    "    loss_by_epochs: list[float]\n",
    "\n",
    "    def fit(self, X: jnpt.Float32[jnpt.Array, \"N P\"], y: jnpt.Int32[jnpt.Array, \"N 1\"]) -> Self:\n",
    "        ...\n",
    "\n",
    "    def predict(self, X: jnpt.Float32[jnpt.Array, \"N P\"]) -> jnpt.Int32[jnpt.Array, \"N\"]:\n",
    "        ..."
   ]
  },
  {
   "cell_type": "code",
   "execution_count": null,
   "metadata": {},
   "outputs": [],
   "source": [
    "def show_fig(fig: go.Figure, title: str) -> None:\n",
    "    fig.update_layout(title=title, height=500, width=700)\n",
    "    fig.show()"
   ]
  },
  {
   "cell_type": "code",
   "execution_count": null,
   "metadata": {},
   "outputs": [],
   "source": [
    "def plot_classifier_loss[N: int, P: int](trained_classifier: Classifier[N, P]) -> None:\n",
    "    misclassification_df: pl.DataFrame = ibis.memtable(\n",
    "        {\n",
    "            \"Epochs\": list(range(1, len(trained_classifier.loss_by_epochs) + 1)),\n",
    "            \"Loss\": trained_classifier.loss_by_epochs,\n",
    "        }\n",
    "    ).execute()\n",
    "\n",
    "    show_fig(\n",
    "        fig=px.line(misclassification_df, x=\"Epochs\", y=\"Loss\", markers=True),\n",
    "        title=f\"{type(trained_classifier).__name__} - Learning rate {trained_classifier.learning_rate}, Epochs {trained_classifier.n_epochs}\",\n",
    "    )"
   ]
  },
  {
   "cell_type": "code",
   "execution_count": null,
   "metadata": {},
   "outputs": [],
   "source": [
    "def plot_decision_regions[N: int, P: int](  # TODO: Refactoring\n",
    "    X: jnpt.Float[jnpt.Array, \"N P\"],\n",
    "    y: jnpt.Int[jnpt.Array, \"1 P\"],\n",
    "    classifier: Classifier[N, P],\n",
    "    resolution: float = 0.02,\n",
    ") -> None:\n",
    "    x1_min, x1_max = X[:, 0].min() - 1, X[:, 0].max() + 1\n",
    "    x2_min, x2_max = X[:, 1].min() - 1, X[:, 1].max() + 1\n",
    "    xx1, xx2 = jnp.meshgrid(jnp.arange(x1_min, x1_max, resolution), jnp.arange(x2_min, x2_max, resolution))\n",
    "    Z = classifier.predict(jnp.array([xx1.ravel(), xx2.ravel()]).T)\n",
    "    Z = Z.reshape(xx1.shape)\n",
    "\n",
    "    contour = go.Contour(x=xx1[0], y=xx2[:, 0], z=Z, showscale=False, colorscale=\"Viridis\")\n",
    "\n",
    "    scatter = go.Scatter(\n",
    "        x=X[:, 0],\n",
    "        y=X[:, 1],\n",
    "        mode=\"markers\",\n",
    "        marker={\"color\": y, \"colorscale\": \"Viridis\", \"line_width\": 1},\n",
    "        showlegend=False,\n",
    "    )\n",
    "\n",
    "    fig = go.Figure(data=[contour, scatter])\n",
    "    fig.update_layout(\n",
    "        title=\"Decision regions\",\n",
    "        xaxis_title=\"sepal length [cm]\",\n",
    "        yaxis_title=\"petal length [cm]\",\n",
    "        legend_title=\"Classes\",\n",
    "        margin={\"l\": 50, \"r\": 50, \"b\": 100, \"t\": 100, \"pad\": 4},\n",
    "        height=500,\n",
    "        width=700,\n",
    "    )\n",
    "    fig.show()"
   ]
  }
 ],
 "metadata": {
  "kernelspec": {
   "display_name": ".venv",
   "language": "python",
   "name": "python3"
  },
  "language_info": {
   "name": "python",
   "version": "3.11.8"
  }
 },
 "nbformat": 4,
 "nbformat_minor": 2
}
